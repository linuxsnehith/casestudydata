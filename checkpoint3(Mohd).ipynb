{
 "cells": [
  {
   "cell_type": "code",
   "execution_count": 1,
   "metadata": {},
   "outputs": [],
   "source": [
    "#Import and initiate findspark Then import pyspark\n",
    "import findspark\n",
    "findspark.init(\"/usr/local/spark\")\n",
    "import pyspark"
   ]
  },
  {
   "cell_type": "code",
   "execution_count": 2,
   "metadata": {},
   "outputs": [],
   "source": [
    "from pyspark.sql import SparkSession\n",
    "appName = \"PySpark Hive Example\"\n",
    "master = \"local\"\n",
    "# Create Spark session with Hive supported.\n",
    "spark = SparkSession.builder \\\n",
    ".appName(appName) \\\n",
    ".master(master) \\\n",
    ".enableHiveSupport() \\\n",
    ".getOrCreate()"
   ]
  },
  {
   "cell_type": "markdown",
   "metadata": {},
   "source": [
    "# 3.1 Q1) Develop a PySpark application to load data Spark DataFrames and save it into Hive tables on a Hadoop cluster in an optimized format.\n",
    "\n"
   ]
  },
  {
   "cell_type": "markdown",
   "metadata": {},
   "source": [
    "Loading data from hdfs\n"
   ]
  },
  {
   "cell_type": "code",
   "execution_count": 3,
   "metadata": {},
   "outputs": [],
   "source": [
    "EmpJoining=spark.read.csv('Employee_joining_status.csv', inferSchema=True,header=True)\n",
    " "
   ]
  },
  {
   "cell_type": "code",
   "execution_count": 4,
   "metadata": {},
   "outputs": [
    {
     "name": "stdout",
     "output_type": "stream",
     "text": [
      "+-------------+----------+\n",
      "|Candidate Ref|    Status|\n",
      "+-------------+----------+\n",
      "|      2110407|    Joined|\n",
      "|      2112635|    Joined|\n",
      "|      2112838|    Joined|\n",
      "|      2115021|    Joined|\n",
      "|      2115125|    Joined|\n",
      "|      2117167|    Joined|\n",
      "|      2119124|    Joined|\n",
      "|      2127572|    Joined|\n",
      "|      2138169|    Joined|\n",
      "|      2143362|    Joined|\n",
      "|      2151180|Not Joined|\n",
      "|      2154264|    Joined|\n",
      "|      2156236|Not Joined|\n",
      "|      2158703|Not Joined|\n",
      "|      2161257|Not Joined|\n",
      "|      2162487|    Joined|\n",
      "|      2166041|Not Joined|\n",
      "|      2172982|    Joined|\n",
      "|      2173730|    Joined|\n",
      "|      2175237|    Joined|\n",
      "+-------------+----------+\n",
      "only showing top 20 rows\n",
      "\n"
     ]
    }
   ],
   "source": [
    "EmpJoining.show()"
   ]
  },
  {
   "cell_type": "code",
   "execution_count": 5,
   "metadata": {},
   "outputs": [],
   "source": [
    "HrDetails=spark.read.csv('hr_Hiring_details.csv', inferSchema=True,header=True)"
   ]
  },
  {
   "cell_type": "code",
   "execution_count": 6,
   "metadata": {},
   "outputs": [
    {
     "name": "stdout",
     "output_type": "stream",
     "text": [
      "+---+-------------+------------+------------------------+-------------+------------+---------------------------+---------------------------+----------------------+-------------+-------------------------+------+-----------------+----------+---------+---+------+----+\n",
      "|Sno|Candidate Ref|DOJ Extended|Duration to accept offer|Notice period|Offered band|Pecent hike expected in CTC|Percent hike offered in CTC|Percent difference CTC|Joining Bonus|Candidate relocate actual|Gender| Candidate Source|Rex in Yrs| Location|Age|LOB_id|_c17|\n",
      "+---+-------------+------------+------------------------+-------------+------------+---------------------------+---------------------------+----------------------+-------------+-------------------------+------+-----------------+----------+---------+---+------+----+\n",
      "|  1|      2110407|         Yes|                      14|           30|          E2|                     -20.79|                      13.16|                 42.86|           No|                       No|Female|           Agency|         7|    Noida| 34|     1|null|\n",
      "|  2|      2112635|          No|                      18|           30|          E2|                       50.0|                      320.0|                 180.0|           No|                       No|  Male|Employee Referral|         8|  Chennai| 34|     2|null|\n",
      "|  3|      2112838|          No|                       3|           45|          E2|                      42.84|                      42.84|                   0.0|           No|                       No|  Male|           Agency|         4|    Noida| 27|     2|null|\n",
      "|  4|      2115021|          No|                      26|           30|          E2|                      42.84|                      42.84|                   0.0|           No|                       No|  Male|Employee Referral|         4|    Noida| 34|     2|null|\n",
      "|  5|      2115125|         Yes|                       1|          120|          E2|                      42.59|                      42.59|                   0.0|           No|                      Yes|  Male|Employee Referral|         6|    Noida| 34|     2|   `|\n",
      "|  6|      2117167|         Yes|                      17|           30|          E1|                      42.83|                      42.83|                   0.0|           No|                       No|  Male|Employee Referral|         2|    Noida| 34|     2|null|\n",
      "|  7|      2119124|         Yes|                      37|           30|          E2|                      31.58|                      31.58|                   0.0|           No|                       No|  Male|Employee Referral|         7|    Noida| 32|     2|null|\n",
      "|  9|      2127572|         Yes|                      16|            0|          E1|                      -20.0|                      -20.0|                   0.0|           No|                       No|Female|           Direct|         8|    Noida| 34|     3|null|\n",
      "| 11|      2138169|          No|                       1|           30|          E1|                     -22.22|                     -22.22|                   0.0|           No|                       No|Female|Employee Referral|         3|  Gurgaon| 26|     4|null|\n",
      "| 12|      2143362|          No|                       6|           30|          E1|                      240.0|                      220.0|                 -5.88|           No|                       No|  Male|Employee Referral|         3|  Chennai| 34|     5|null|\n",
      "| 13|      2151180|          No|                     120|           30|          E2|                       5.26|                     -60.53|                 -62.5|           No|                       No|  Male|Employee Referral|         3|    Noida| 34|     2|null|\n",
      "| 14|      2154264|          No|                       3|            0|          E2|                      28.21|                      37.18|                   7.0|           No|                       No|  Male|Employee Referral|         7|  Chennai| 34|     2|null|\n",
      "| 15|      2156236|         Yes|                      14|           30|          E2|                       50.0|                      287.5|                158.33|           No|                       No|  Male|           Agency|         7|    Noida| 29|     2|null|\n",
      "| 16|      2158703|          No|                      44|           75|          E2|                      45.45|                       60.0|                  10.0|           No|                       No|  Male|           Direct|         8|    Noida| 34|     2|null|\n",
      "| 17|      2161257|          No|                       7|           30|          E3|                      53.85|                       50.0|                  -2.5|           No|                       No|  Male|Employee Referral|         5|    Noida| 34|     2|null|\n",
      "| 18|      2162487|          No|                       1|           30|          E3|                     -27.31|                     -27.31|                   0.0|           No|                       No|  Male|           Direct|        18|Bangalore| 34|     6|null|\n",
      "| 19|      2166041|         Yes|                      98|           30|          E2|                       50.0|                     165.36|                 76.91|           No|                       No|  Male|           Agency|         8|    Noida| 36|     2|null|\n",
      "| 20|      2172982|          No|                       1|            0|          E2|                       30.0|                       30.0|                   0.0|           No|                       No|  Male|           Direct|         6|    Noida| 34|     2|null|\n",
      "| 21|      2173730|          No|                       1|           30|          E1|                     -13.42|                      42.86|                  65.0|           No|                       No|  Male|           Direct|         1|  Gurgaon| 34|     2|null|\n",
      "| 22|      2175237|          No|                       7|           30|          E1|                     221.43|                     164.29|                -17.78|           No|                       No|  Male|           Direct|         2|    Noida| 34|     1|null|\n",
      "+---+-------------+------------+------------------------+-------------+------------+---------------------------+---------------------------+----------------------+-------------+-------------------------+------+-----------------+----------+---------+---+------+----+\n",
      "only showing top 20 rows\n",
      "\n"
     ]
    }
   ],
   "source": [
    "HrDetails.show()"
   ]
  },
  {
   "cell_type": "code",
   "execution_count": 7,
   "metadata": {
    "scrolled": false
   },
   "outputs": [
    {
     "name": "stdout",
     "output_type": "stream",
     "text": [
      "root\n",
      " |-- Sno: integer (nullable = true)\n",
      " |-- Candidate Ref: integer (nullable = true)\n",
      " |-- DOJ Extended: string (nullable = true)\n",
      " |-- Duration to accept offer: integer (nullable = true)\n",
      " |-- Notice period: integer (nullable = true)\n",
      " |-- Offered band: string (nullable = true)\n",
      " |-- Pecent hike expected in CTC: double (nullable = true)\n",
      " |-- Percent hike offered in CTC: double (nullable = true)\n",
      " |-- Percent difference CTC: double (nullable = true)\n",
      " |-- Joining Bonus: string (nullable = true)\n",
      " |-- Candidate relocate actual: string (nullable = true)\n",
      " |-- Gender: string (nullable = true)\n",
      " |-- Candidate Source: string (nullable = true)\n",
      " |-- Rex in Yrs: integer (nullable = true)\n",
      " |-- Location: string (nullable = true)\n",
      " |-- Age: integer (nullable = true)\n",
      " |-- LOB_id: integer (nullable = true)\n",
      " |-- _c17: string (nullable = true)\n",
      "\n"
     ]
    }
   ],
   "source": [
    "HrDetails.printSchema()"
   ]
  },
  {
   "cell_type": "code",
   "execution_count": 8,
   "metadata": {},
   "outputs": [],
   "source": [
    "Lob=spark.read.csv('LOB_mapping_P4.csv', inferSchema=True,header=True)"
   ]
  },
  {
   "cell_type": "code",
   "execution_count": 9,
   "metadata": {},
   "outputs": [
    {
     "name": "stdout",
     "output_type": "stream",
     "text": [
      "+------+----------+\n",
      "|LOB_id|       LOB|\n",
      "+------+----------+\n",
      "|     1|       ERS|\n",
      "|     2|     INFRA|\n",
      "|     3|Healthcare|\n",
      "|     4|      BFSI|\n",
      "|     5|      CSMP|\n",
      "|     6|       ETS|\n",
      "|     7|      AXON|\n",
      "|     8|       EAS|\n",
      "|     9|       MMS|\n",
      "+------+----------+\n",
      "\n"
     ]
    }
   ],
   "source": [
    "Lob.show()"
   ]
  },
  {
   "cell_type": "markdown",
   "metadata": {},
   "source": [
    "# DATA TRANSFORMATION\n"
   ]
  },
  {
   "cell_type": "code",
   "execution_count": 10,
   "metadata": {},
   "outputs": [],
   "source": [
    "HrDetails=HrDetails.withColumnRenamed(\"Candidate Ref\",\"Candidate_Ref\")\\\n",
    "       .withColumnRenamed(\"Duration to accept offer\",\"Duration_to_accept_offer\")\\\n",
    "       .withColumnRenamed(\"DOJ Extended\",\"DOJ_Extended\")\\\n",
    "       .withColumnRenamed(\"Notice period\",\"Notice_period\")\\\n",
    "       .withColumnRenamed(\"Offered band\",\"Offered_band\")\\\n",
    "       .withColumnRenamed(\"Pecent hike expected in CTC\",\"Pecent_hike_expected_in_CTC\")\\\n",
    "       .withColumnRenamed(\"Percent hike offered in CTC\",\"Percent_hike_offered_in_CTC\")\\\n",
    "       .withColumnRenamed(\"Percent difference CTC\",\"Percent_difference_CTC\")\\\n",
    "       .withColumnRenamed(\"Joining Bonus\",\"Joining_Bonus\")\\\n",
    "       .withColumnRenamed(\"Candidate relocate actual\",\"Candidate_relocate_actual\")\\\n",
    "       .withColumnRenamed(\"Candidate Source\",\"Candidate_Source\")\\\n",
    "       .withColumnRenamed(\"Rex in Yrs\",\"Rex_in_Yrs\")"
   ]
  },
  {
   "cell_type": "code",
   "execution_count": 11,
   "metadata": {},
   "outputs": [
    {
     "name": "stdout",
     "output_type": "stream",
     "text": [
      "+---+-------------+------------+------------------------+-------------+------------+---------------------------+---------------------------+----------------------+-------------+-------------------------+------+-----------------+----------+---------+---+------+----+\n",
      "|Sno|Candidate_Ref|DOJ_Extended|Duration_to_accept_offer|Notice_period|Offered_band|Pecent_hike_expected_in_CTC|Percent_hike_offered_in_CTC|Percent_difference_CTC|Joining_Bonus|Candidate_relocate_actual|Gender| Candidate_Source|Rex_in_Yrs| Location|Age|LOB_id|_c17|\n",
      "+---+-------------+------------+------------------------+-------------+------------+---------------------------+---------------------------+----------------------+-------------+-------------------------+------+-----------------+----------+---------+---+------+----+\n",
      "|  1|      2110407|         Yes|                      14|           30|          E2|                     -20.79|                      13.16|                 42.86|           No|                       No|Female|           Agency|         7|    Noida| 34|     1|null|\n",
      "|  2|      2112635|          No|                      18|           30|          E2|                       50.0|                      320.0|                 180.0|           No|                       No|  Male|Employee Referral|         8|  Chennai| 34|     2|null|\n",
      "|  3|      2112838|          No|                       3|           45|          E2|                      42.84|                      42.84|                   0.0|           No|                       No|  Male|           Agency|         4|    Noida| 27|     2|null|\n",
      "|  4|      2115021|          No|                      26|           30|          E2|                      42.84|                      42.84|                   0.0|           No|                       No|  Male|Employee Referral|         4|    Noida| 34|     2|null|\n",
      "|  5|      2115125|         Yes|                       1|          120|          E2|                      42.59|                      42.59|                   0.0|           No|                      Yes|  Male|Employee Referral|         6|    Noida| 34|     2|   `|\n",
      "|  6|      2117167|         Yes|                      17|           30|          E1|                      42.83|                      42.83|                   0.0|           No|                       No|  Male|Employee Referral|         2|    Noida| 34|     2|null|\n",
      "|  7|      2119124|         Yes|                      37|           30|          E2|                      31.58|                      31.58|                   0.0|           No|                       No|  Male|Employee Referral|         7|    Noida| 32|     2|null|\n",
      "|  9|      2127572|         Yes|                      16|            0|          E1|                      -20.0|                      -20.0|                   0.0|           No|                       No|Female|           Direct|         8|    Noida| 34|     3|null|\n",
      "| 11|      2138169|          No|                       1|           30|          E1|                     -22.22|                     -22.22|                   0.0|           No|                       No|Female|Employee Referral|         3|  Gurgaon| 26|     4|null|\n",
      "| 12|      2143362|          No|                       6|           30|          E1|                      240.0|                      220.0|                 -5.88|           No|                       No|  Male|Employee Referral|         3|  Chennai| 34|     5|null|\n",
      "| 13|      2151180|          No|                     120|           30|          E2|                       5.26|                     -60.53|                 -62.5|           No|                       No|  Male|Employee Referral|         3|    Noida| 34|     2|null|\n",
      "| 14|      2154264|          No|                       3|            0|          E2|                      28.21|                      37.18|                   7.0|           No|                       No|  Male|Employee Referral|         7|  Chennai| 34|     2|null|\n",
      "| 15|      2156236|         Yes|                      14|           30|          E2|                       50.0|                      287.5|                158.33|           No|                       No|  Male|           Agency|         7|    Noida| 29|     2|null|\n",
      "| 16|      2158703|          No|                      44|           75|          E2|                      45.45|                       60.0|                  10.0|           No|                       No|  Male|           Direct|         8|    Noida| 34|     2|null|\n",
      "| 17|      2161257|          No|                       7|           30|          E3|                      53.85|                       50.0|                  -2.5|           No|                       No|  Male|Employee Referral|         5|    Noida| 34|     2|null|\n",
      "| 18|      2162487|          No|                       1|           30|          E3|                     -27.31|                     -27.31|                   0.0|           No|                       No|  Male|           Direct|        18|Bangalore| 34|     6|null|\n",
      "| 19|      2166041|         Yes|                      98|           30|          E2|                       50.0|                     165.36|                 76.91|           No|                       No|  Male|           Agency|         8|    Noida| 36|     2|null|\n",
      "| 20|      2172982|          No|                       1|            0|          E2|                       30.0|                       30.0|                   0.0|           No|                       No|  Male|           Direct|         6|    Noida| 34|     2|null|\n",
      "| 21|      2173730|          No|                       1|           30|          E1|                     -13.42|                      42.86|                  65.0|           No|                       No|  Male|           Direct|         1|  Gurgaon| 34|     2|null|\n",
      "| 22|      2175237|          No|                       7|           30|          E1|                     221.43|                     164.29|                -17.78|           No|                       No|  Male|           Direct|         2|    Noida| 34|     1|null|\n",
      "+---+-------------+------------+------------------------+-------------+------------+---------------------------+---------------------------+----------------------+-------------+-------------------------+------+-----------------+----------+---------+---+------+----+\n",
      "only showing top 20 rows\n",
      "\n"
     ]
    }
   ],
   "source": [
    "HrDetails.show()\n"
   ]
  },
  {
   "cell_type": "code",
   "execution_count": 12,
   "metadata": {
    "scrolled": true
   },
   "outputs": [
    {
     "name": "stdout",
     "output_type": "stream",
     "text": [
      "+---+-------------+------------+------------------------+-------------+------------+---------------------------+---------------------------+----------------------+-------------+-------------------------+------+-----------------+----------+--------+---+------+----+\n",
      "|Sno|Candidate_Ref|DOJ_Extended|Duration_to_accept_offer|Notice_period|Offered_band|Pecent_hike_expected_in_CTC|Percent_hike_offered_in_CTC|Percent_difference_CTC|Joining_Bonus|Candidate_relocate_actual|Gender| Candidate_Source|Rex_in_Yrs|Location|Age|LOB_id|_c17|\n",
      "+---+-------------+------------+------------------------+-------------+------------+---------------------------+---------------------------+----------------------+-------------+-------------------------+------+-----------------+----------+--------+---+------+----+\n",
      "|  1|      2110407|         Yes|                      14|           30|          E2|                     -20.79|                      13.16|                 42.86|           No|                       No|Female|           Agency|         7|   Noida| 34|     1|null|\n",
      "|  2|      2112635|          No|                      18|           30|          E2|                       50.0|                      320.0|                 180.0|           No|                       No|  Male|Employee Referral|         8| Chennai| 34|     2|null|\n",
      "|  3|      2112838|          No|                       3|           45|          E2|                      42.84|                      42.84|                   0.0|           No|                       No|  Male|           Agency|         4|   Noida| 27|     2|null|\n",
      "|  4|      2115021|          No|                      26|           30|          E2|                      42.84|                      42.84|                   0.0|           No|                       No|  Male|Employee Referral|         4|   Noida| 34|     2|null|\n",
      "|  5|      2115125|         Yes|                       1|          120|          E2|                      42.59|                      42.59|                   0.0|           No|                      Yes|  Male|Employee Referral|         6|   Noida| 34|     2|   `|\n",
      "+---+-------------+------------+------------------------+-------------+------------+---------------------------+---------------------------+----------------------+-------------+-------------------------+------+-----------------+----------+--------+---+------+----+\n",
      "only showing top 5 rows\n",
      "\n"
     ]
    }
   ],
   "source": [
    "HrDetails.show(5)\n"
   ]
  },
  {
   "cell_type": "code",
   "execution_count": 13,
   "metadata": {},
   "outputs": [
    {
     "name": "stdout",
     "output_type": "stream",
     "text": [
      "+---+-------------+------------+------------------------+-------------+------------+---------------------------+---------------------------+----------------------+-------------+-------------------------+------+-----------------+----------+---------+---+------+----+\n",
      "|Sno|Candidate_Ref|DOJ_Extended|Duration_to_accept_offer|Notice_period|Offered_band|Pecent_hike_expected_in_CTC|Percent_hike_offered_in_CTC|Percent_difference_CTC|Joining_Bonus|Candidate_relocate_actual|Gender| Candidate_Source|Rex_in_Yrs| Location|Age|LOB_id|_c17|\n",
      "+---+-------------+------------+------------------------+-------------+------------+---------------------------+---------------------------+----------------------+-------------+-------------------------+------+-----------------+----------+---------+---+------+----+\n",
      "|  1|      2110407|         Yes|                      14|           30|          E2|                     -20.79|                      13.16|                 42.86|           No|                       No|Female|           Agency|         7|    Noida| 34|     1|null|\n",
      "|  2|      2112635|          No|                      18|           30|          E2|                       50.0|                      320.0|                 180.0|           No|                       No|  Male|Employee Referral|         8|  Chennai| 34|     2|null|\n",
      "|  3|      2112838|          No|                       3|           45|          E2|                      42.84|                      42.84|                   0.0|           No|                       No|  Male|           Agency|         4|    Noida| 27|     2|null|\n",
      "|  4|      2115021|          No|                      26|           30|          E2|                      42.84|                      42.84|                   0.0|           No|                       No|  Male|Employee Referral|         4|    Noida| 34|     2|null|\n",
      "|  5|      2115125|         Yes|                       1|          120|          E2|                      42.59|                      42.59|                   0.0|           No|                      Yes|  Male|Employee Referral|         6|    Noida| 34|     2|   `|\n",
      "|  6|      2117167|         Yes|                      17|           30|          E1|                      42.83|                      42.83|                   0.0|           No|                       No|  Male|Employee Referral|         2|    Noida| 34|     2|null|\n",
      "|  7|      2119124|         Yes|                      37|           30|          E2|                      31.58|                      31.58|                   0.0|           No|                       No|  Male|Employee Referral|         7|    Noida| 32|     2|null|\n",
      "|  9|      2127572|         Yes|                      16|            0|          E1|                      -20.0|                      -20.0|                   0.0|           No|                       No|Female|           Direct|         8|    Noida| 34|     3|null|\n",
      "| 11|      2138169|          No|                       1|           30|          E1|                     -22.22|                     -22.22|                   0.0|           No|                       No|Female|Employee Referral|         3|  Gurgaon| 26|     4|null|\n",
      "| 12|      2143362|          No|                       6|           30|          E1|                      240.0|                      220.0|                 -5.88|           No|                       No|  Male|Employee Referral|         3|  Chennai| 34|     5|null|\n",
      "| 13|      2151180|          No|                     120|           30|          E2|                       5.26|                     -60.53|                 -62.5|           No|                       No|  Male|Employee Referral|         3|    Noida| 34|     2|null|\n",
      "| 14|      2154264|          No|                       3|            0|          E2|                      28.21|                      37.18|                   7.0|           No|                       No|  Male|Employee Referral|         7|  Chennai| 34|     2|null|\n",
      "| 15|      2156236|         Yes|                      14|           30|          E2|                       50.0|                      287.5|                158.33|           No|                       No|  Male|           Agency|         7|    Noida| 29|     2|null|\n",
      "| 16|      2158703|          No|                      44|           75|          E2|                      45.45|                       60.0|                  10.0|           No|                       No|  Male|           Direct|         8|    Noida| 34|     2|null|\n",
      "| 17|      2161257|          No|                       7|           30|          E3|                      53.85|                       50.0|                  -2.5|           No|                       No|  Male|Employee Referral|         5|    Noida| 34|     2|null|\n",
      "| 18|      2162487|          No|                       1|           30|          E3|                     -27.31|                     -27.31|                   0.0|           No|                       No|  Male|           Direct|        18|Bangalore| 34|     6|null|\n",
      "| 19|      2166041|         Yes|                      98|           30|          E2|                       50.0|                     165.36|                 76.91|           No|                       No|  Male|           Agency|         8|    Noida| 36|     2|null|\n",
      "| 20|      2172982|          No|                       1|            0|          E2|                       30.0|                       30.0|                   0.0|           No|                       No|  Male|           Direct|         6|    Noida| 34|     2|null|\n",
      "| 21|      2173730|          No|                       1|           30|          E1|                     -13.42|                      42.86|                  65.0|           No|                       No|  Male|           Direct|         1|  Gurgaon| 34|     2|null|\n",
      "| 22|      2175237|          No|                       7|           30|          E1|                     221.43|                     164.29|                -17.78|           No|                       No|  Male|           Direct|         2|    Noida| 34|     1|null|\n",
      "+---+-------------+------------+------------------------+-------------+------------+---------------------------+---------------------------+----------------------+-------------+-------------------------+------+-----------------+----------+---------+---+------+----+\n",
      "only showing top 20 rows\n",
      "\n"
     ]
    }
   ],
   "source": [
    "HrDetails.write.mode(\"overwrite\").saveAsTable('HrDetails')\n",
    "spark.sql(\"select * from HrDetails\").show()"
   ]
  },
  {
   "cell_type": "code",
   "execution_count": 14,
   "metadata": {},
   "outputs": [
    {
     "name": "stdout",
     "output_type": "stream",
     "text": [
      "+------+----------+\n",
      "|LOB_id|       LOB|\n",
      "+------+----------+\n",
      "|     1|       ERS|\n",
      "|     2|     INFRA|\n",
      "|     3|Healthcare|\n",
      "|     4|      BFSI|\n",
      "|     5|      CSMP|\n",
      "|     6|       ETS|\n",
      "|     7|      AXON|\n",
      "|     8|       EAS|\n",
      "|     9|       MMS|\n",
      "+------+----------+\n",
      "\n"
     ]
    }
   ],
   "source": [
    "Lob.write.mode(\"overwrite\").saveAsTable(\"Lob\")\n",
    "\n",
    "spark.sql(\"select * from Lob\").show() "
   ]
  },
  {
   "cell_type": "code",
   "execution_count": 15,
   "metadata": {},
   "outputs": [],
   "source": [
    "EmpJoining=EmpJoining.withColumnRenamed(\"Candidate Ref\",\"Candidate_Ref\")"
   ]
  },
  {
   "cell_type": "code",
   "execution_count": 16,
   "metadata": {
    "scrolled": true
   },
   "outputs": [
    {
     "name": "stdout",
     "output_type": "stream",
     "text": [
      "+-------------+----------+\n",
      "|Candidate_Ref|    Status|\n",
      "+-------------+----------+\n",
      "|      2110407|    Joined|\n",
      "|      2112635|    Joined|\n",
      "|      2112838|    Joined|\n",
      "|      2115021|    Joined|\n",
      "|      2115125|    Joined|\n",
      "|      2117167|    Joined|\n",
      "|      2119124|    Joined|\n",
      "|      2127572|    Joined|\n",
      "|      2138169|    Joined|\n",
      "|      2143362|    Joined|\n",
      "|      2151180|Not Joined|\n",
      "|      2154264|    Joined|\n",
      "|      2156236|Not Joined|\n",
      "|      2158703|Not Joined|\n",
      "|      2161257|Not Joined|\n",
      "|      2162487|    Joined|\n",
      "|      2166041|Not Joined|\n",
      "|      2172982|    Joined|\n",
      "|      2173730|    Joined|\n",
      "|      2175237|    Joined|\n",
      "+-------------+----------+\n",
      "only showing top 20 rows\n",
      "\n"
     ]
    }
   ],
   "source": [
    "EmpJoining.write.mode(\"overwrite\").saveAsTable(\"EmpJoining\")\n",
    "spark.sql(\"select * from EmpJoining\").show() "
   ]
  },
  {
   "cell_type": "markdown",
   "metadata": {},
   "source": [
    "# JOINING TABLE"
   ]
  },
  {
   "cell_type": "code",
   "execution_count": 17,
   "metadata": {
    "scrolled": false
   },
   "outputs": [
    {
     "name": "stdout",
     "output_type": "stream",
     "text": [
      "+-------------+---+------------+------------------------+-------------+------------+---------------------------+---------------------------+----------------------+-------------+-------------------------+------+-----------------+----------+---------+---+------+----+----------+\n",
      "|Candidate_Ref|Sno|DOJ_Extended|Duration_to_accept_offer|Notice_period|Offered_band|Pecent_hike_expected_in_CTC|Percent_hike_offered_in_CTC|Percent_difference_CTC|Joining_Bonus|Candidate_relocate_actual|Gender| Candidate_Source|Rex_in_Yrs| Location|Age|LOB_id|_c17|    Status|\n",
      "+-------------+---+------------+------------------------+-------------+------------+---------------------------+---------------------------+----------------------+-------------+-------------------------+------+-----------------+----------+---------+---+------+----+----------+\n",
      "|      2110407|  1|         Yes|                      14|           30|          E2|                     -20.79|                      13.16|                 42.86|           No|                       No|Female|           Agency|         7|    Noida| 34|     1|null|    Joined|\n",
      "|      2112635|  2|          No|                      18|           30|          E2|                       50.0|                      320.0|                 180.0|           No|                       No|  Male|Employee Referral|         8|  Chennai| 34|     2|null|    Joined|\n",
      "|      2112838|  3|          No|                       3|           45|          E2|                      42.84|                      42.84|                   0.0|           No|                       No|  Male|           Agency|         4|    Noida| 27|     2|null|    Joined|\n",
      "|      2115021|  4|          No|                      26|           30|          E2|                      42.84|                      42.84|                   0.0|           No|                       No|  Male|Employee Referral|         4|    Noida| 34|     2|null|    Joined|\n",
      "|      2115125|  5|         Yes|                       1|          120|          E2|                      42.59|                      42.59|                   0.0|           No|                      Yes|  Male|Employee Referral|         6|    Noida| 34|     2|   `|    Joined|\n",
      "|      2117167|  6|         Yes|                      17|           30|          E1|                      42.83|                      42.83|                   0.0|           No|                       No|  Male|Employee Referral|         2|    Noida| 34|     2|null|    Joined|\n",
      "|      2119124|  7|         Yes|                      37|           30|          E2|                      31.58|                      31.58|                   0.0|           No|                       No|  Male|Employee Referral|         7|    Noida| 32|     2|null|    Joined|\n",
      "|      2127572|  9|         Yes|                      16|            0|          E1|                      -20.0|                      -20.0|                   0.0|           No|                       No|Female|           Direct|         8|    Noida| 34|     3|null|    Joined|\n",
      "|      2138169| 11|          No|                       1|           30|          E1|                     -22.22|                     -22.22|                   0.0|           No|                       No|Female|Employee Referral|         3|  Gurgaon| 26|     4|null|    Joined|\n",
      "|      2143362| 12|          No|                       6|           30|          E1|                      240.0|                      220.0|                 -5.88|           No|                       No|  Male|Employee Referral|         3|  Chennai| 34|     5|null|    Joined|\n",
      "|      2151180| 13|          No|                     120|           30|          E2|                       5.26|                     -60.53|                 -62.5|           No|                       No|  Male|Employee Referral|         3|    Noida| 34|     2|null|Not Joined|\n",
      "|      2154264| 14|          No|                       3|            0|          E2|                      28.21|                      37.18|                   7.0|           No|                       No|  Male|Employee Referral|         7|  Chennai| 34|     2|null|    Joined|\n",
      "|      2156236| 15|         Yes|                      14|           30|          E2|                       50.0|                      287.5|                158.33|           No|                       No|  Male|           Agency|         7|    Noida| 29|     2|null|Not Joined|\n",
      "|      2158703| 16|          No|                      44|           75|          E2|                      45.45|                       60.0|                  10.0|           No|                       No|  Male|           Direct|         8|    Noida| 34|     2|null|Not Joined|\n",
      "|      2161257| 17|          No|                       7|           30|          E3|                      53.85|                       50.0|                  -2.5|           No|                       No|  Male|Employee Referral|         5|    Noida| 34|     2|null|Not Joined|\n",
      "|      2162487| 18|          No|                       1|           30|          E3|                     -27.31|                     -27.31|                   0.0|           No|                       No|  Male|           Direct|        18|Bangalore| 34|     6|null|    Joined|\n",
      "|      2166041| 19|         Yes|                      98|           30|          E2|                       50.0|                     165.36|                 76.91|           No|                       No|  Male|           Agency|         8|    Noida| 36|     2|null|Not Joined|\n",
      "|      2172982| 20|          No|                       1|            0|          E2|                       30.0|                       30.0|                   0.0|           No|                       No|  Male|           Direct|         6|    Noida| 34|     2|null|    Joined|\n",
      "|      2173730| 21|          No|                       1|           30|          E1|                     -13.42|                      42.86|                  65.0|           No|                       No|  Male|           Direct|         1|  Gurgaon| 34|     2|null|    Joined|\n",
      "|      2175237| 22|          No|                       7|           30|          E1|                     221.43|                     164.29|                -17.78|           No|                       No|  Male|           Direct|         2|    Noida| 34|     1|null|    Joined|\n",
      "+-------------+---+------------+------------------------+-------------+------------+---------------------------+---------------------------+----------------------+-------------+-------------------------+------+-----------------+----------+---------+---+------+----+----------+\n",
      "only showing top 20 rows\n",
      "\n"
     ]
    }
   ],
   "source": [
    "Combine_Data=HrDetails.join(Lob,['LOB_id'])\n",
    "Combine_Data=HrDetails.join(EmpJoining,['Candidate_Ref'])\n",
    "Combine_Data.show()"
   ]
  },
  {
   "cell_type": "markdown",
   "metadata": {},
   "source": [
    "# Save df to a new table in Hive & Showing the results using SELECT"
   ]
  },
  {
   "cell_type": "code",
   "execution_count": 18,
   "metadata": {},
   "outputs": [],
   "source": [
    "from pyspark.sql import functions as F"
   ]
  },
  {
   "cell_type": "code",
   "execution_count": 19,
   "metadata": {},
   "outputs": [
    {
     "name": "stdout",
     "output_type": "stream",
     "text": [
      "+-------------+----------+------+\n",
      "|Candidate_Ref|Rex_in_Yrs|Status|\n",
      "+-------------+----------+------+\n",
      "|      2110407|         7|Joined|\n",
      "|      2112635|         8|Joined|\n",
      "|      2112838|         4|Joined|\n",
      "|      2115021|         4|Joined|\n",
      "|      2115125|         6|Joined|\n",
      "|      2117167|         2|Joined|\n",
      "|      2119124|         7|Joined|\n",
      "|      2127572|         8|Joined|\n",
      "|      2138169|         3|Joined|\n",
      "|      2143362|         3|Joined|\n",
      "+-------------+----------+------+\n",
      "only showing top 10 rows\n",
      "\n"
     ]
    }
   ],
   "source": [
    "Combine_Data.select('Candidate_Ref', 'Rex_in_Yrs','Status').show(10)\n"
   ]
  },
  {
   "cell_type": "code",
   "execution_count": 20,
   "metadata": {},
   "outputs": [
    {
     "name": "stdout",
     "output_type": "stream",
     "text": [
      "+---------+\n",
      "| Location|\n",
      "+---------+\n",
      "|Bangalore|\n",
      "|  Chennai|\n",
      "|   Mumbai|\n",
      "|Ahmedabad|\n",
      "|  Kolkata|\n",
      "|    Noida|\n",
      "|  Gurgaon|\n",
      "|     Pune|\n",
      "|   Others|\n",
      "|   Cochin|\n",
      "|Hyderabad|\n",
      "+---------+\n",
      "\n"
     ]
    }
   ],
   "source": [
    "df_location=Combine_Data.filter(Combine_Data.Location.isNotNull())\n",
    "df_location.select(\"Location\").distinct().show()"
   ]
  },
  {
   "cell_type": "code",
   "execution_count": 21,
   "metadata": {},
   "outputs": [
    {
     "data": {
      "text/plain": [
       "[('Candidate_Ref', 'int'),\n",
       " ('Sno', 'int'),\n",
       " ('DOJ_Extended', 'string'),\n",
       " ('Duration_to_accept_offer', 'int'),\n",
       " ('Notice_period', 'int'),\n",
       " ('Offered_band', 'string'),\n",
       " ('Pecent_hike_expected_in_CTC', 'double'),\n",
       " ('Percent_hike_offered_in_CTC', 'double'),\n",
       " ('Percent_difference_CTC', 'double'),\n",
       " ('Joining_Bonus', 'string'),\n",
       " ('Candidate_relocate_actual', 'string'),\n",
       " ('Gender', 'string'),\n",
       " ('Candidate_Source', 'string'),\n",
       " ('Rex_in_Yrs', 'int'),\n",
       " ('Location', 'string'),\n",
       " ('Age', 'int'),\n",
       " ('LOB_id', 'int'),\n",
       " ('_c17', 'string'),\n",
       " ('Status', 'string')]"
      ]
     },
     "execution_count": 21,
     "metadata": {},
     "output_type": "execute_result"
    }
   ],
   "source": [
    "Combine_Data.dtypes"
   ]
  },
  {
   "cell_type": "code",
   "execution_count": 23,
   "metadata": {},
   "outputs": [],
   "source": [
    "from pyspark.sql.types import *\n",
    "Schema=StructType([\n",
    "  StructField('Candidate_Ref',IntegerType(),nullable=True),\n",
    "  StructField('Sno',IntegerType(),nullable=True),\n",
    "  StructField('DOJ_Extended',StringType(),nullable=True),\n",
    "  StructField('Duration_to_accept_offer',IntegerType(),nullable=True),\n",
    "  StructField('Notice_period',IntegerType(),nullable=True),\n",
    "  StructField('Offered_band',StringType(),nullable=True),\n",
    "  StructField('Pecent_hike_expected_in_CTC',DoubleType(),nullable=True),\n",
    "  StructField('Pecent_hike_offered_in_CTC',DoubleType(),nullable=True),\n",
    "  StructField('Percent_difference_CTC',DoubleType(),nullable=True),\n",
    "  StructField('Joining_Bonus',StringType(),nullable=True),\n",
    "  StructField('Candidate_relocate_actual',StringType(),nullable=True),\n",
    "  StructField('Gender',StringType(),nullable=True),\n",
    "  StructField('Candidate_Source',StringType(),nullable=True),\n",
    "  StructField('Rex_in_Yrs',IntegerType(),nullable=True),\n",
    "  StructField('Location',StringType(),nullable=True),\n",
    "  StructField('Age',IntegerType(),nullable=True),\n",
    "  StructField('LOB_id',IntegerType(),nullable=True),\n",
    "  StructField('Status',StringType(),nullable=True)\n",
    "  ])\n",
    "df_Combine_Data = spark.read.option(\"header\",True).schema(Schema).csv('Combine_Data.csv')"
   ]
  },
  {
   "cell_type": "markdown",
   "metadata": {},
   "source": [
    "# filter data by null values"
   ]
  },
  {
   "cell_type": "code",
   "execution_count": 24,
   "metadata": {},
   "outputs": [
    {
     "name": "stdout",
     "output_type": "stream",
     "text": [
      "+-----------------------+\n",
      "|(Candidate_Ref IS NULL)|\n",
      "+-----------------------+\n",
      "|                  false|\n",
      "|                  false|\n",
      "|                  false|\n",
      "|                  false|\n",
      "|                  false|\n",
      "|                  false|\n",
      "|                  false|\n",
      "|                  false|\n",
      "|                  false|\n",
      "|                  false|\n",
      "|                  false|\n",
      "|                  false|\n",
      "|                  false|\n",
      "|                  false|\n",
      "|                  false|\n",
      "|                  false|\n",
      "|                  false|\n",
      "|                  false|\n",
      "|                  false|\n",
      "|                  false|\n",
      "+-----------------------+\n",
      "only showing top 20 rows\n",
      "\n"
     ]
    }
   ],
   "source": [
    "df_unique=df_Combine_Data.select(df_Combine_Data.Candidate_Ref.isNull()).show()"
   ]
  },
  {
   "cell_type": "code",
   "execution_count": 25,
   "metadata": {},
   "outputs": [
    {
     "name": "stdout",
     "output_type": "stream",
     "text": [
      "+-------------+---+------------+------------------------+-------------+------------+---------------------------+--------------------------+----------------------+-------------+-------------------------+------+-----------------+----------+---------+---+------+------+\n",
      "|Candidate_Ref|Sno|DOJ_Extended|Duration_to_accept_offer|Notice_period|Offered_band|Pecent_hike_expected_in_CTC|Pecent_hike_offered_in_CTC|Percent_difference_CTC|Joining_Bonus|Candidate_relocate_actual|Gender| Candidate_Source|Rex_in_Yrs| Location|Age|LOB_id|Status|\n",
      "+-------------+---+------------+------------------------+-------------+------------+---------------------------+--------------------------+----------------------+-------------+-------------------------+------+-----------------+----------+---------+---+------+------+\n",
      "|      2112635|  2|          No|                      18|           30|          E2|                       50.0|                     320.0|                 180.0|           No|                       No|  Male|Employee Referral|         8|  Chennai| 34|     2|  null|\n",
      "|      2112838|  3|          No|                       3|           45|          E2|                      42.84|                     42.84|                   0.0|           No|                       No|  Male|           Agency|         4|    Noida| 27|     2|  null|\n",
      "|      2115021|  4|          No|                      26|           30|          E2|                      42.84|                     42.84|                   0.0|           No|                       No|  Male|Employee Referral|         4|    Noida| 34|     2|  null|\n",
      "|      2115125|  5|         Yes|                       1|          120|          E2|                      42.59|                     42.59|                   0.0|           No|                      Yes|  Male|Employee Referral|         6|    Noida| 34|     2|     `|\n",
      "|      2117167|  6|         Yes|                      17|           30|          E1|                      42.83|                     42.83|                   0.0|           No|                       No|  Male|Employee Referral|         2|    Noida| 34|     2|  null|\n",
      "|      2119124|  7|         Yes|                      37|           30|          E2|                      31.58|                     31.58|                   0.0|           No|                       No|  Male|Employee Referral|         7|    Noida| 32|     2|  null|\n",
      "|      2127572|  9|         Yes|                      16|            0|          E1|                      -20.0|                     -20.0|                   0.0|           No|                       No|Female|           Direct|         8|    Noida| 34|     3|  null|\n",
      "|      2138169| 11|          No|                       1|           30|          E1|                     -22.22|                    -22.22|                   0.0|           No|                       No|Female|Employee Referral|         3|  Gurgaon| 26|     4|  null|\n",
      "|      2143362| 12|          No|                       6|           30|          E1|                      240.0|                     220.0|                 -5.88|           No|                       No|  Male|Employee Referral|         3|  Chennai| 34|     5|  null|\n",
      "|      2151180| 13|          No|                     120|           30|          E2|                       5.26|                    -60.53|                 -62.5|           No|                       No|  Male|Employee Referral|         3|    Noida| 34|     2|  null|\n",
      "|      2154264| 14|          No|                       3|            0|          E2|                      28.21|                     37.18|                   7.0|           No|                       No|  Male|Employee Referral|         7|  Chennai| 34|     2|  null|\n",
      "|      2156236| 15|         Yes|                      14|           30|          E2|                       50.0|                     287.5|                158.33|           No|                       No|  Male|           Agency|         7|    Noida| 29|     2|  null|\n",
      "|      2158703| 16|          No|                      44|           75|          E2|                      45.45|                      60.0|                  10.0|           No|                       No|  Male|           Direct|         8|    Noida| 34|     2|  null|\n",
      "|      2161257| 17|          No|                       7|           30|          E3|                      53.85|                      50.0|                  -2.5|           No|                       No|  Male|Employee Referral|         5|    Noida| 34|     2|  null|\n",
      "|      2162487| 18|          No|                       1|           30|          E3|                     -27.31|                    -27.31|                   0.0|           No|                       No|  Male|           Direct|        18|Bangalore| 34|     6|  null|\n",
      "|      2166041| 19|         Yes|                      98|           30|          E2|                       50.0|                    165.36|                 76.91|           No|                       No|  Male|           Agency|         8|    Noida| 36|     2|  null|\n",
      "|      2172982| 20|          No|                       1|            0|          E2|                       30.0|                      30.0|                   0.0|           No|                       No|  Male|           Direct|         6|    Noida| 34|     2|  null|\n",
      "|      2173730| 21|          No|                       1|           30|          E1|                     -13.42|                     42.86|                  65.0|           No|                       No|  Male|           Direct|         1|  Gurgaon| 34|     2|  null|\n",
      "|      2175237| 22|          No|                       7|           30|          E1|                     221.43|                    164.29|                -17.78|           No|                       No|  Male|           Direct|         2|    Noida| 34|     1|  null|\n",
      "|      2175323| 23|          No|                       1|            0|          E3|                      42.78|                     42.78|                   0.0|           No|                      Yes|  Male|Employee Referral|         8|  Chennai| 29|     2|  null|\n",
      "+-------------+---+------------+------------------------+-------------+------------+---------------------------+--------------------------+----------------------+-------------+-------------------------+------+-----------------+----------+---------+---+------+------+\n",
      "only showing top 20 rows\n",
      "\n"
     ]
    }
   ],
   "source": [
    "df_Combine_Data.show()"
   ]
  },
  {
   "cell_type": "code",
   "execution_count": 26,
   "metadata": {},
   "outputs": [
    {
     "data": {
      "text/plain": [
       "8994"
      ]
     },
     "execution_count": 26,
     "metadata": {},
     "output_type": "execute_result"
    }
   ],
   "source": [
    "df_Combine_Data.count()"
   ]
  },
  {
   "cell_type": "code",
   "execution_count": 27,
   "metadata": {},
   "outputs": [
    {
     "name": "stdout",
     "output_type": "stream",
     "text": [
      "root\n",
      " |-- Candidate_Ref: integer (nullable = true)\n",
      " |-- Sno: integer (nullable = true)\n",
      " |-- DOJ_Extended: string (nullable = true)\n",
      " |-- Duration_to_accept_offer: integer (nullable = true)\n",
      " |-- Notice_period: integer (nullable = true)\n",
      " |-- Offered_band: string (nullable = true)\n",
      " |-- Pecent_hike_expected_in_CTC: double (nullable = true)\n",
      " |-- Pecent_hike_offered_in_CTC: double (nullable = true)\n",
      " |-- Percent_difference_CTC: double (nullable = true)\n",
      " |-- Joining_Bonus: string (nullable = true)\n",
      " |-- Candidate_relocate_actual: string (nullable = true)\n",
      " |-- Gender: string (nullable = true)\n",
      " |-- Candidate_Source: string (nullable = true)\n",
      " |-- Rex_in_Yrs: integer (nullable = true)\n",
      " |-- Location: string (nullable = true)\n",
      " |-- Age: integer (nullable = true)\n",
      " |-- LOB_id: integer (nullable = true)\n",
      " |-- Status: string (nullable = true)\n",
      "\n"
     ]
    }
   ],
   "source": [
    "df_Combine_Data.printSchema()"
   ]
  },
  {
   "cell_type": "code",
   "execution_count": 28,
   "metadata": {},
   "outputs": [
    {
     "data": {
      "text/plain": [
       "DataFrame[Candidate_Ref: int, Sno: int, DOJ_Extended: string, Duration_to_accept_offer: int, Notice_period: int, Offered_band: string, Pecent_hike_expected_in_CTC: double, Pecent_hike_offered_in_CTC: double, Percent_difference_CTC: double, Joining_Bonus: string, Candidate_relocate_actual: string, Gender: string, Candidate_Source: string, Rex_in_Yrs: int, Location: string, Age: int, LOB_id: int, Status: string]"
      ]
     },
     "execution_count": 28,
     "metadata": {},
     "output_type": "execute_result"
    }
   ],
   "source": [
    "df_Combine_Data.fillna(value=0)"
   ]
  },
  {
   "cell_type": "markdown",
   "metadata": {},
   "source": [
    "# unique values in different columns"
   ]
  },
  {
   "cell_type": "code",
   "execution_count": 29,
   "metadata": {},
   "outputs": [
    {
     "data": {
      "text/plain": [
       "[Row(Joining_Bonus='No'), Row(Joining_Bonus='Yes')]"
      ]
     },
     "execution_count": 29,
     "metadata": {},
     "output_type": "execute_result"
    }
   ],
   "source": [
    "df_Combine_Data.select(\"Joining_Bonus\").distinct().collect()"
   ]
  },
  {
   "cell_type": "code",
   "execution_count": 30,
   "metadata": {},
   "outputs": [
    {
     "data": {
      "text/plain": [
       "[Row(Location='Bangalore'),\n",
       " Row(Location='Chennai'),\n",
       " Row(Location='Mumbai'),\n",
       " Row(Location='Ahmedabad'),\n",
       " Row(Location='Kolkata'),\n",
       " Row(Location='Noida'),\n",
       " Row(Location='Gurgaon'),\n",
       " Row(Location='Pune'),\n",
       " Row(Location='Others'),\n",
       " Row(Location='Cochin'),\n",
       " Row(Location='Hyderabad')]"
      ]
     },
     "execution_count": 30,
     "metadata": {},
     "output_type": "execute_result"
    }
   ],
   "source": [
    "df_Combine_Data.select(\"Location\").distinct().collect()"
   ]
  },
  {
   "cell_type": "code",
   "execution_count": 31,
   "metadata": {},
   "outputs": [
    {
     "data": {
      "text/plain": [
       "[Row(Offered_Band=None),\n",
       " Row(Offered_Band='E0'),\n",
       " Row(Offered_Band='E3'),\n",
       " Row(Offered_Band='E1'),\n",
       " Row(Offered_Band='E2')]"
      ]
     },
     "execution_count": 31,
     "metadata": {},
     "output_type": "execute_result"
    }
   ],
   "source": [
    "df_Combine_Data.select(\"Offered_Band\").distinct().collect()"
   ]
  },
  {
   "cell_type": "code",
   "execution_count": 32,
   "metadata": {},
   "outputs": [
    {
     "data": {
      "text/plain": [
       "[Row(Rex_in_Yrs=12),\n",
       " Row(Rex_in_Yrs=22),\n",
       " Row(Rex_in_Yrs=1),\n",
       " Row(Rex_in_Yrs=13),\n",
       " Row(Rex_in_Yrs=6),\n",
       " Row(Rex_in_Yrs=16),\n",
       " Row(Rex_in_Yrs=3),\n",
       " Row(Rex_in_Yrs=20),\n",
       " Row(Rex_in_Yrs=5),\n",
       " Row(Rex_in_Yrs=15),\n",
       " Row(Rex_in_Yrs=9),\n",
       " Row(Rex_in_Yrs=17),\n",
       " Row(Rex_in_Yrs=4),\n",
       " Row(Rex_in_Yrs=8),\n",
       " Row(Rex_in_Yrs=7),\n",
       " Row(Rex_in_Yrs=10),\n",
       " Row(Rex_in_Yrs=24),\n",
       " Row(Rex_in_Yrs=11),\n",
       " Row(Rex_in_Yrs=14),\n",
       " Row(Rex_in_Yrs=2),\n",
       " Row(Rex_in_Yrs=0),\n",
       " Row(Rex_in_Yrs=18)]"
      ]
     },
     "execution_count": 32,
     "metadata": {},
     "output_type": "execute_result"
    }
   ],
   "source": [
    "df_Combine_Data.select(\"Rex_in_Yrs\").distinct().collect()"
   ]
  },
  {
   "cell_type": "markdown",
   "metadata": {},
   "source": [
    "count of Location of different cities"
   ]
  },
  {
   "cell_type": "code",
   "execution_count": 33,
   "metadata": {},
   "outputs": [
    {
     "name": "stdout",
     "output_type": "stream",
     "text": [
      "+---------+-----+\n",
      "| Location|count|\n",
      "+---------+-----+\n",
      "|  Chennai| 3150|\n",
      "|    Noida| 2726|\n",
      "|Bangalore| 2230|\n",
      "|Hyderabad|  341|\n",
      "|   Mumbai|  197|\n",
      "|  Gurgaon|  146|\n",
      "|  Kolkata|  129|\n",
      "|     Pune|   48|\n",
      "|   Others|   13|\n",
      "|   Cochin|    8|\n",
      "|Ahmedabad|    6|\n",
      "+---------+-----+\n",
      "\n"
     ]
    }
   ],
   "source": [
    "from pyspark.sql.functions import desc\n",
    "\n",
    "# Display number of values in Location column\n",
    "df_Combine_Data.groupBy('Location').count().orderBy(desc(\"count\")).show(df_Combine_Data.count(), True)"
   ]
  },
  {
   "cell_type": "code",
   "execution_count": 34,
   "metadata": {},
   "outputs": [
    {
     "name": "stdout",
     "output_type": "stream",
     "text": [
      "root\n",
      " |-- Candidate_Ref: integer (nullable = true)\n",
      " |-- Sno: integer (nullable = true)\n",
      " |-- DOJ_Extended: string (nullable = true)\n",
      " |-- Duration_to_accept_offer: integer (nullable = true)\n",
      " |-- Notice_period: integer (nullable = true)\n",
      " |-- Offered_band: string (nullable = true)\n",
      " |-- Pecent_hike_expected_in_CTC: double (nullable = true)\n",
      " |-- Pecent_hike_offered_in_CTC: double (nullable = true)\n",
      " |-- Percent_difference_CTC: double (nullable = true)\n",
      " |-- Joining_Bonus: string (nullable = true)\n",
      " |-- Candidate_relocate_actual: string (nullable = true)\n",
      " |-- Gender: string (nullable = true)\n",
      " |-- Candidate_Source: string (nullable = true)\n",
      " |-- Rex_in_Yrs: integer (nullable = true)\n",
      " |-- Location: string (nullable = true)\n",
      " |-- Age: integer (nullable = true)\n",
      " |-- LOB_id: integer (nullable = true)\n",
      " |-- Status: string (nullable = true)\n",
      "\n"
     ]
    }
   ],
   "source": [
    "df_Combine_Data.printSchema()"
   ]
  },
  {
   "cell_type": "markdown",
   "metadata": {},
   "source": [
    "# Write PySpark routines to cleanse the data, prepare the data to handle missing values, and the data transformations identified in task 1.1 again making sure that the data is written into Hive tables in an efficient format"
   ]
  },
  {
   "cell_type": "code",
   "execution_count": 35,
   "metadata": {},
   "outputs": [],
   "source": [
    "from pyspark.sql import Row\n",
    "from pyspark.sql.functions import min, max"
   ]
  },
  {
   "cell_type": "code",
   "execution_count": 36,
   "metadata": {
    "scrolled": true
   },
   "outputs": [
    {
     "name": "stdout",
     "output_type": "stream",
     "text": [
      "+---------------+---------------+\n",
      "|min(Rex_in_Yrs)|max(Rex_in_Yrs)|\n",
      "+---------------+---------------+\n",
      "|0              |24             |\n",
      "+---------------+---------------+\n",
      "\n"
     ]
    }
   ],
   "source": [
    "df_Combine_Data.select(min(\"Rex_in_Yrs\"),max(\"Rex_in_Yrs\")).show(df_Combine_Data.count(), False)"
   ]
  },
  {
   "cell_type": "code",
   "execution_count": 37,
   "metadata": {},
   "outputs": [
    {
     "name": "stdout",
     "output_type": "stream",
     "text": [
      "+-------------------------------+-------------------------------+\n",
      "|min(Pecent_hike_offered_in_CTC)|max(Pecent_hike_offered_in_CTC)|\n",
      "+-------------------------------+-------------------------------+\n",
      "|-60.53                         |471.43                         |\n",
      "+-------------------------------+-------------------------------+\n",
      "\n"
     ]
    }
   ],
   "source": [
    "df_Combine_Data.select(min(\"Pecent_hike_offered_in_CTC\"),max(\"Pecent_hike_offered_in_CTC\")).show(df_Combine_Data.count(), False)"
   ]
  },
  {
   "cell_type": "code",
   "execution_count": 38,
   "metadata": {},
   "outputs": [
    {
     "ename": "AnalysisException",
     "evalue": "'Table `Combine_Data` already exists.;'",
     "output_type": "error",
     "traceback": [
      "\u001b[0;31m---------------------------------------------------------------------------\u001b[0m",
      "\u001b[0;31mPy4JJavaError\u001b[0m                             Traceback (most recent call last)",
      "\u001b[0;32m/usr/local/spark/python/pyspark/sql/utils.py\u001b[0m in \u001b[0;36mdeco\u001b[0;34m(*a, **kw)\u001b[0m\n\u001b[1;32m     62\u001b[0m         \u001b[0;32mtry\u001b[0m\u001b[0;34m:\u001b[0m\u001b[0;34m\u001b[0m\u001b[0m\n\u001b[0;32m---> 63\u001b[0;31m             \u001b[0;32mreturn\u001b[0m \u001b[0mf\u001b[0m\u001b[0;34m(\u001b[0m\u001b[0;34m*\u001b[0m\u001b[0ma\u001b[0m\u001b[0;34m,\u001b[0m \u001b[0;34m**\u001b[0m\u001b[0mkw\u001b[0m\u001b[0;34m)\u001b[0m\u001b[0;34m\u001b[0m\u001b[0m\n\u001b[0m\u001b[1;32m     64\u001b[0m         \u001b[0;32mexcept\u001b[0m \u001b[0mpy4j\u001b[0m\u001b[0;34m.\u001b[0m\u001b[0mprotocol\u001b[0m\u001b[0;34m.\u001b[0m\u001b[0mPy4JJavaError\u001b[0m \u001b[0;32mas\u001b[0m \u001b[0me\u001b[0m\u001b[0;34m:\u001b[0m\u001b[0;34m\u001b[0m\u001b[0m\n",
      "\u001b[0;32m/usr/local/spark/python/lib/py4j-0.10.7-src.zip/py4j/protocol.py\u001b[0m in \u001b[0;36mget_return_value\u001b[0;34m(answer, gateway_client, target_id, name)\u001b[0m\n\u001b[1;32m    327\u001b[0m                     \u001b[0;34m\"An error occurred while calling {0}{1}{2}.\\n\"\u001b[0m\u001b[0;34m.\u001b[0m\u001b[0;34m\u001b[0m\u001b[0m\n\u001b[0;32m--> 328\u001b[0;31m                     format(target_id, \".\", name), value)\n\u001b[0m\u001b[1;32m    329\u001b[0m             \u001b[0;32melse\u001b[0m\u001b[0;34m:\u001b[0m\u001b[0;34m\u001b[0m\u001b[0m\n",
      "\u001b[0;31mPy4JJavaError\u001b[0m: An error occurred while calling o214.saveAsTable.\n: org.apache.spark.sql.AnalysisException: Table `Combine_Data` already exists.;\n\tat org.apache.spark.sql.DataFrameWriter.saveAsTable(DataFrameWriter.scala:369)\n\tat org.apache.spark.sql.DataFrameWriter.saveAsTable(DataFrameWriter.scala:354)\n\tat sun.reflect.NativeMethodAccessorImpl.invoke0(Native Method)\n\tat sun.reflect.NativeMethodAccessorImpl.invoke(NativeMethodAccessorImpl.java:62)\n\tat sun.reflect.DelegatingMethodAccessorImpl.invoke(DelegatingMethodAccessorImpl.java:43)\n\tat java.lang.reflect.Method.invoke(Method.java:498)\n\tat py4j.reflection.MethodInvoker.invoke(MethodInvoker.java:244)\n\tat py4j.reflection.ReflectionEngine.invoke(ReflectionEngine.java:357)\n\tat py4j.Gateway.invoke(Gateway.java:282)\n\tat py4j.commands.AbstractCommand.invokeMethod(AbstractCommand.java:132)\n\tat py4j.commands.CallCommand.execute(CallCommand.java:79)\n\tat py4j.GatewayConnection.run(GatewayConnection.java:238)\n\tat java.lang.Thread.run(Thread.java:748)\n",
      "\nDuring handling of the above exception, another exception occurred:\n",
      "\u001b[0;31mAnalysisException\u001b[0m                         Traceback (most recent call last)",
      "\u001b[0;32m<ipython-input-38-57662f5909ec>\u001b[0m in \u001b[0;36m<module>\u001b[0;34m\u001b[0m\n\u001b[0;32m----> 1\u001b[0;31m \u001b[0mdf_Combine_Data\u001b[0m\u001b[0;34m.\u001b[0m\u001b[0mwrite\u001b[0m\u001b[0;34m.\u001b[0m\u001b[0msaveAsTable\u001b[0m\u001b[0;34m(\u001b[0m\u001b[0;34m'Combine_Data'\u001b[0m\u001b[0;34m)\u001b[0m\u001b[0;34m\u001b[0m\u001b[0m\n\u001b[0m",
      "\u001b[0;32m/usr/local/spark/python/pyspark/sql/readwriter.py\u001b[0m in \u001b[0;36msaveAsTable\u001b[0;34m(self, name, format, mode, partitionBy, **options)\u001b[0m\n\u001b[1;32m    631\u001b[0m         \u001b[0;32mif\u001b[0m \u001b[0mformat\u001b[0m \u001b[0;32mis\u001b[0m \u001b[0;32mnot\u001b[0m \u001b[0;32mNone\u001b[0m\u001b[0;34m:\u001b[0m\u001b[0;34m\u001b[0m\u001b[0m\n\u001b[1;32m    632\u001b[0m             \u001b[0mself\u001b[0m\u001b[0;34m.\u001b[0m\u001b[0mformat\u001b[0m\u001b[0;34m(\u001b[0m\u001b[0mformat\u001b[0m\u001b[0;34m)\u001b[0m\u001b[0;34m\u001b[0m\u001b[0m\n\u001b[0;32m--> 633\u001b[0;31m         \u001b[0mself\u001b[0m\u001b[0;34m.\u001b[0m\u001b[0m_jwrite\u001b[0m\u001b[0;34m.\u001b[0m\u001b[0msaveAsTable\u001b[0m\u001b[0;34m(\u001b[0m\u001b[0mname\u001b[0m\u001b[0;34m)\u001b[0m\u001b[0;34m\u001b[0m\u001b[0m\n\u001b[0m\u001b[1;32m    634\u001b[0m \u001b[0;34m\u001b[0m\u001b[0m\n\u001b[1;32m    635\u001b[0m     \u001b[0;34m@\u001b[0m\u001b[0msince\u001b[0m\u001b[0;34m(\u001b[0m\u001b[0;36m1.4\u001b[0m\u001b[0;34m)\u001b[0m\u001b[0;34m\u001b[0m\u001b[0m\n",
      "\u001b[0;32m/usr/local/spark/python/lib/py4j-0.10.7-src.zip/py4j/java_gateway.py\u001b[0m in \u001b[0;36m__call__\u001b[0;34m(self, *args)\u001b[0m\n\u001b[1;32m   1255\u001b[0m         \u001b[0manswer\u001b[0m \u001b[0;34m=\u001b[0m \u001b[0mself\u001b[0m\u001b[0;34m.\u001b[0m\u001b[0mgateway_client\u001b[0m\u001b[0;34m.\u001b[0m\u001b[0msend_command\u001b[0m\u001b[0;34m(\u001b[0m\u001b[0mcommand\u001b[0m\u001b[0;34m)\u001b[0m\u001b[0;34m\u001b[0m\u001b[0m\n\u001b[1;32m   1256\u001b[0m         return_value = get_return_value(\n\u001b[0;32m-> 1257\u001b[0;31m             answer, self.gateway_client, self.target_id, self.name)\n\u001b[0m\u001b[1;32m   1258\u001b[0m \u001b[0;34m\u001b[0m\u001b[0m\n\u001b[1;32m   1259\u001b[0m         \u001b[0;32mfor\u001b[0m \u001b[0mtemp_arg\u001b[0m \u001b[0;32min\u001b[0m \u001b[0mtemp_args\u001b[0m\u001b[0;34m:\u001b[0m\u001b[0;34m\u001b[0m\u001b[0m\n",
      "\u001b[0;32m/usr/local/spark/python/pyspark/sql/utils.py\u001b[0m in \u001b[0;36mdeco\u001b[0;34m(*a, **kw)\u001b[0m\n\u001b[1;32m     67\u001b[0m                                              e.java_exception.getStackTrace()))\n\u001b[1;32m     68\u001b[0m             \u001b[0;32mif\u001b[0m \u001b[0ms\u001b[0m\u001b[0;34m.\u001b[0m\u001b[0mstartswith\u001b[0m\u001b[0;34m(\u001b[0m\u001b[0;34m'org.apache.spark.sql.AnalysisException: '\u001b[0m\u001b[0;34m)\u001b[0m\u001b[0;34m:\u001b[0m\u001b[0;34m\u001b[0m\u001b[0m\n\u001b[0;32m---> 69\u001b[0;31m                 \u001b[0;32mraise\u001b[0m \u001b[0mAnalysisException\u001b[0m\u001b[0;34m(\u001b[0m\u001b[0ms\u001b[0m\u001b[0;34m.\u001b[0m\u001b[0msplit\u001b[0m\u001b[0;34m(\u001b[0m\u001b[0;34m': '\u001b[0m\u001b[0;34m,\u001b[0m \u001b[0;36m1\u001b[0m\u001b[0;34m)\u001b[0m\u001b[0;34m[\u001b[0m\u001b[0;36m1\u001b[0m\u001b[0;34m]\u001b[0m\u001b[0;34m,\u001b[0m \u001b[0mstackTrace\u001b[0m\u001b[0;34m)\u001b[0m\u001b[0;34m\u001b[0m\u001b[0m\n\u001b[0m\u001b[1;32m     70\u001b[0m             \u001b[0;32mif\u001b[0m \u001b[0ms\u001b[0m\u001b[0;34m.\u001b[0m\u001b[0mstartswith\u001b[0m\u001b[0;34m(\u001b[0m\u001b[0;34m'org.apache.spark.sql.catalyst.analysis'\u001b[0m\u001b[0;34m)\u001b[0m\u001b[0;34m:\u001b[0m\u001b[0;34m\u001b[0m\u001b[0m\n\u001b[1;32m     71\u001b[0m                 \u001b[0;32mraise\u001b[0m \u001b[0mAnalysisException\u001b[0m\u001b[0;34m(\u001b[0m\u001b[0ms\u001b[0m\u001b[0;34m.\u001b[0m\u001b[0msplit\u001b[0m\u001b[0;34m(\u001b[0m\u001b[0;34m': '\u001b[0m\u001b[0;34m,\u001b[0m \u001b[0;36m1\u001b[0m\u001b[0;34m)\u001b[0m\u001b[0;34m[\u001b[0m\u001b[0;36m1\u001b[0m\u001b[0;34m]\u001b[0m\u001b[0;34m,\u001b[0m \u001b[0mstackTrace\u001b[0m\u001b[0;34m)\u001b[0m\u001b[0;34m\u001b[0m\u001b[0m\n",
      "\u001b[0;31mAnalysisException\u001b[0m: 'Table `Combine_Data` already exists.;'"
     ]
    }
   ],
   "source": [
    "df_Combine_Data.write.saveAsTable('Combine_Data')"
   ]
  },
  {
   "cell_type": "code",
   "execution_count": null,
   "metadata": {},
   "outputs": [],
   "source": [
    "spark.sql(\"SELECT Location,COUNT(Location) FROM Combine_Data GROUP BY Location order by count(Location) desc\").show(5)"
   ]
  },
  {
   "cell_type": "code",
   "execution_count": null,
   "metadata": {},
   "outputs": [],
   "source": [
    "spark.sql(\"SELECT Rex_in_Yrs,COUNT(Rex_in_Yrs) FROM Combine_Data GROUP BY Rex_in_Yrs order by count(*) desc\").show(5)"
   ]
  },
  {
   "cell_type": "code",
   "execution_count": null,
   "metadata": {},
   "outputs": [],
   "source": [
    "spark.sql(\"SELECT Offered_band,COUNT(Offered_band) FROM Combine_Data GROUP BY Offered_band order by count(*) desc\").show(4)"
   ]
  },
  {
   "cell_type": "code",
   "execution_count": null,
   "metadata": {},
   "outputs": [],
   "source": []
  },
  {
   "cell_type": "code",
   "execution_count": null,
   "metadata": {},
   "outputs": [],
   "source": []
  },
  {
   "cell_type": "code",
   "execution_count": null,
   "metadata": {},
   "outputs": [],
   "source": []
  },
  {
   "cell_type": "code",
   "execution_count": null,
   "metadata": {},
   "outputs": [],
   "source": []
  },
  {
   "cell_type": "code",
   "execution_count": null,
   "metadata": {},
   "outputs": [],
   "source": []
  },
  {
   "cell_type": "code",
   "execution_count": null,
   "metadata": {},
   "outputs": [],
   "source": []
  }
 ],
 "metadata": {
  "kernelspec": {
   "display_name": "Python 3",
   "language": "python",
   "name": "python3"
  },
  "language_info": {
   "codemirror_mode": {
    "name": "ipython",
    "version": 3
   },
   "file_extension": ".py",
   "mimetype": "text/x-python",
   "name": "python",
   "nbconvert_exporter": "python",
   "pygments_lexer": "ipython3",
   "version": "3.5.2"
  }
 },
 "nbformat": 4,
 "nbformat_minor": 2
}
